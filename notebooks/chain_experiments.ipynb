{
 "cells": [
  {
   "cell_type": "markdown",
   "source": [
    "# Experiments with Sequantial Chaining and Memory"
   ],
   "metadata": {
    "collapsed": false
   }
  },
  {
   "cell_type": "code",
   "execution_count": 1,
   "outputs": [],
   "source": [
    "import os\n",
    "from langchain.chains import LLMChain\n",
    "from langchain.llms import OpenAI\n",
    "from langchain.prompts import PromptTemplate\n",
    "from langchain.chains import SimpleSequentialChain"
   ],
   "metadata": {
    "collapsed": false
   }
  },
  {
   "cell_type": "code",
   "execution_count": 2,
   "outputs": [],
   "source": [
    "os.environ['OPENAI_API_KEY'] = ''"
   ],
   "metadata": {
    "collapsed": false
   }
  },
  {
   "cell_type": "code",
   "execution_count": 3,
   "outputs": [],
   "source": [
    "llm = OpenAI(temperature=0.1)"
   ],
   "metadata": {
    "collapsed": false
   }
  },
  {
   "cell_type": "code",
   "execution_count": 4,
   "outputs": [],
   "source": [
    "def read_file(filename):\n",
    "    with open(filename, 'r') as file:\n",
    "        content = file.read()\n",
    "    return content\n",
    "\n",
    "def file_to_code(code_file):\n",
    "    if code_file:\n",
    "        code = code_file.read().decode('utf-8')\n",
    "        return code\n",
    "\n",
    "def add_tests(tests,file):\n",
    "    with open(file, \"a\") as file_object:\n",
    "        file_object.write(tests)"
   ],
   "metadata": {
    "collapsed": false
   }
  },
  {
   "cell_type": "markdown",
   "source": [
    "# Defining the template for the first chain"
   ],
   "metadata": {
    "collapsed": false
   }
  },
  {
   "cell_type": "code",
   "execution_count": 5,
   "outputs": [],
   "source": [
    "template = \"You are an AI programming assistant.\" \\\n",
    "           \"You dont respond to non-programming requests.\" \\\n",
    "           \"Follow the user's requirements carefully & to the letter.\" \\\n",
    "           \"if user asks for code, you must provide efficient and testing code.\" \\\n",
    "           \"All methods in code should have export when initialised.\" \\\n",
    "           \"The code should not have any formatting or syntax highlighting.\" \\\n",
    "           \"Do not wrap the code in a code block.\" \\\n",
    "           \"The code will be executed in Deno Runtime.\" \\\n",
    "           \"Here is the coding request:\\n\" \\\n",
    "           \"{request}\""
   ],
   "metadata": {
    "collapsed": false
   }
  },
  {
   "cell_type": "code",
   "execution_count": 6,
   "outputs": [],
   "source": [
    "prompt_template = PromptTemplate(input_variables=[\"request\"], template=template)"
   ],
   "metadata": {
    "collapsed": false
   }
  },
  {
   "cell_type": "code",
   "execution_count": 7,
   "outputs": [],
   "source": [
    "code_chain = LLMChain(llm=llm, prompt=prompt_template)"
   ],
   "metadata": {
    "collapsed": false
   }
  },
  {
   "cell_type": "markdown",
   "source": [
    "# Defining the chain for test generation"
   ],
   "metadata": {
    "collapsed": false
   }
  },
  {
   "cell_type": "code",
   "execution_count": 14,
   "outputs": [],
   "source": [
    "template_test = \"You are system which generates Deno.tests\" \\\n",
    "           \"You only generate tests for the provided code.\" \\\n",
    "           \"You must include all essential imports such as:\\n\" \\\n",
    "           \"assertion module\\n\" \\\n",
    "           \"import method names ../code/temp.js;\" \\\n",
    "           \"Provided tests should not have any formatting or syntax highlighting.\" \\\n",
    "           \"Do not wrap the tests in a code block.\" \\\n",
    "           \"Here is the code:\\n\" \\\n",
    "           \"{code}\""
   ],
   "metadata": {
    "collapsed": false
   }
  },
  {
   "cell_type": "code",
   "execution_count": 15,
   "outputs": [],
   "source": [
    "prompt_template = PromptTemplate(input_variables=[\"code\"], template=template_test)"
   ],
   "metadata": {
    "collapsed": false
   }
  },
  {
   "cell_type": "code",
   "execution_count": 16,
   "outputs": [],
   "source": [
    "test_chain = LLMChain(llm=llm, prompt=prompt_template)"
   ],
   "metadata": {
    "collapsed": false
   }
  },
  {
   "cell_type": "markdown",
   "source": [
    "# Combining two chains"
   ],
   "metadata": {
    "collapsed": false
   }
  },
  {
   "cell_type": "code",
   "execution_count": 17,
   "outputs": [],
   "source": [
    "overall_chain = SimpleSequentialChain(\n",
    "    chains=[code_chain, test_chain],\n",
    "    verbose=True,\n",
    ")"
   ],
   "metadata": {
    "collapsed": false
   }
  },
  {
   "cell_type": "code",
   "execution_count": 20,
   "outputs": [
    {
     "name": "stdout",
     "output_type": "stream",
     "text": [
      "\n",
      "\n",
      "\u001B[1m> Entering new SimpleSequentialChain chain...\u001B[0m\n",
      "\u001B[36;1m\u001B[1;3m\n",
      "\n",
      "// Binary Search Algorithm\n",
      "function binarySearch(arr, target) {\n",
      "  let start = 0;\n",
      "  let end = arr.length - 1;\n",
      "  let middle = Math.floor((start + end) / 2);\n",
      "\n",
      "  while (arr[middle] !== target && start <= end) {\n",
      "    if (target < arr[middle]) {\n",
      "      end = middle - 1;\n",
      "    } else {\n",
      "      start = middle + 1;\n",
      "    }\n",
      "    middle = Math.floor((start + end) / 2);\n",
      "  }\n",
      "\n",
      "  return arr[middle] === target ? middle : -1;\n",
      "}\n",
      "\n",
      "export { binarySearch };\u001B[0m\n",
      "\u001B[33;1m\u001B[1;3m\n",
      "\n",
      "// Tests\n",
      "import { assertEquals } from \"https://deno.land/std/testing/asserts.ts\";\n",
      "import { binarySearch } from \"../code/temp.js\";\n",
      "\n",
      "Deno.test(\"binarySearch() returns the correct index\", () => {\n",
      "  const arr = [1, 2, 3, 4, 5, 6, 7, 8, 9, 10];\n",
      "  const target = 5;\n",
      "  const expected = 4;\n",
      "  const result = binarySearch(arr, target);\n",
      "  assertEquals(result, expected);\n",
      "});\n",
      "\n",
      "Deno.test(\"binarySearch() returns -1 when the target is not found\", () => {\n",
      "  const arr = [1, 2, 3, 4, 5, 6, 7, 8, 9, 10];\n",
      "  const target = 11;\n",
      "  const expected = -1;\n",
      "  const result = binarySearch(arr, target);\n",
      "  assertEquals(result, expected);\n",
      "});\u001B[0m\n",
      "\n",
      "\u001B[1m> Finished chain.\u001B[0m\n"
     ]
    }
   ],
   "source": [
    "output = overall_chain.run(\"concise binary search\")"
   ],
   "metadata": {
    "collapsed": false
   }
  },
  {
   "cell_type": "code",
   "execution_count": 27,
   "outputs": [
    {
     "name": "stdout",
     "output_type": "stream",
     "text": [
      "\n",
      "\n",
      "// Tests\n",
      "import { assertEquals } from \"https://deno.land/std/testing/asserts.ts\";\n",
      "import { binarySearch } from \"../code/temp.js\";\n",
      "\n",
      "Deno.test(\"binarySearch() returns the correct index\", () => {\n",
      "  const arr = [1, 2, 3, 4, 5, 6, 7, 8, 9, 10];\n",
      "  const target = 5;\n",
      "  const expected = 4;\n",
      "  const result = binarySearch(arr, target);\n",
      "  assertEquals(result, expected);\n",
      "});\n",
      "\n",
      "Deno.test(\"binarySearch() returns -1 when the target is not found\", () => {\n",
      "  const arr = [1, 2, 3, 4, 5, 6, 7, 8, 9, 10];\n",
      "  const target = 11;\n",
      "  const expected = -1;\n",
      "  const result = binarySearch(arr, target);\n",
      "  assertEquals(result, expected);\n",
      "});\n"
     ]
    }
   ],
   "source": [
    "print(output)"
   ],
   "metadata": {
    "collapsed": false
   }
  },
  {
   "cell_type": "code",
   "execution_count": null,
   "outputs": [],
   "source": [],
   "metadata": {
    "collapsed": false
   }
  }
 ],
 "metadata": {
  "kernelspec": {
   "display_name": "Python 3",
   "language": "python",
   "name": "python3"
  },
  "language_info": {
   "codemirror_mode": {
    "name": "ipython",
    "version": 2
   },
   "file_extension": ".py",
   "mimetype": "text/x-python",
   "name": "python",
   "nbconvert_exporter": "python",
   "pygments_lexer": "ipython2",
   "version": "2.7.6"
  }
 },
 "nbformat": 4,
 "nbformat_minor": 0
}
